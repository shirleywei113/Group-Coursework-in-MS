{
 "cells": [
  {
   "cell_type": "markdown",
   "metadata": {
    "ExecuteTime": {
     "end_time": "2019-07-14T14:53:20.756396Z",
     "start_time": "2019-07-14T14:53:20.752428Z"
    }
   },
   "source": [
    "# Set up the sessions"
   ]
  },
  {
   "cell_type": "code",
   "execution_count": 29,
   "metadata": {
    "ExecuteTime": {
     "end_time": "2019-07-18T13:57:55.321479Z",
     "start_time": "2019-07-18T13:57:55.318009Z"
    }
   },
   "outputs": [],
   "source": [
    "import pandas as pd"
   ]
  },
  {
   "cell_type": "markdown",
   "metadata": {},
   "source": [
    "# Import data"
   ]
  },
  {
   "cell_type": "code",
   "execution_count": 30,
   "metadata": {
    "ExecuteTime": {
     "end_time": "2019-07-18T13:57:55.376038Z",
     "start_time": "2019-07-18T13:57:55.325447Z"
    }
   },
   "outputs": [
    {
     "data": {
      "text/html": [
       "<div>\n",
       "<style scoped>\n",
       "    .dataframe tbody tr th:only-of-type {\n",
       "        vertical-align: middle;\n",
       "    }\n",
       "\n",
       "    .dataframe tbody tr th {\n",
       "        vertical-align: top;\n",
       "    }\n",
       "\n",
       "    .dataframe thead th {\n",
       "        text-align: right;\n",
       "    }\n",
       "</style>\n",
       "<table border=\"1\" class=\"dataframe\">\n",
       "  <thead>\n",
       "    <tr style=\"text-align: right;\">\n",
       "      <th></th>\n",
       "      <th>Prod1</th>\n",
       "      <th>Prod2</th>\n",
       "      <th>count</th>\n",
       "    </tr>\n",
       "  </thead>\n",
       "  <tbody>\n",
       "    <tr>\n",
       "      <th>0</th>\n",
       "      <td>447Prod</td>\n",
       "      <td>342Prod</td>\n",
       "      <td>2</td>\n",
       "    </tr>\n",
       "    <tr>\n",
       "      <th>1</th>\n",
       "      <td>447Prod</td>\n",
       "      <td>67Prod</td>\n",
       "      <td>1</td>\n",
       "    </tr>\n",
       "    <tr>\n",
       "      <th>2</th>\n",
       "      <td>447Prod</td>\n",
       "      <td>1810Prod</td>\n",
       "      <td>1</td>\n",
       "    </tr>\n",
       "    <tr>\n",
       "      <th>3</th>\n",
       "      <td>447Prod</td>\n",
       "      <td>1046Prod</td>\n",
       "      <td>1</td>\n",
       "    </tr>\n",
       "    <tr>\n",
       "      <th>4</th>\n",
       "      <td>447Prod</td>\n",
       "      <td>4Prod</td>\n",
       "      <td>1</td>\n",
       "    </tr>\n",
       "  </tbody>\n",
       "</table>\n",
       "</div>"
      ],
      "text/plain": [
       "     Prod1     Prod2  count\n",
       "0  447Prod   342Prod      2\n",
       "1  447Prod    67Prod      1\n",
       "2  447Prod  1810Prod      1\n",
       "3  447Prod  1046Prod      1\n",
       "4  447Prod     4Prod      1"
      ]
     },
     "execution_count": 30,
     "metadata": {},
     "output_type": "execute_result"
    }
   ],
   "source": [
    "# Read network file\n",
    "network = pd.read_csv('C:/Users/Shirley/Desktop/ARP code/Network files/co_product_weighted network_UK_Q4.csv',\n",
    "                     sep = ' ', names = ('Prod1', 'Prod2', 'count'))\n",
    "network.head()"
   ]
  },
  {
   "cell_type": "code",
   "execution_count": 31,
   "metadata": {
    "ExecuteTime": {
     "end_time": "2019-07-18T13:57:55.530790Z",
     "start_time": "2019-07-18T13:57:55.378518Z"
    }
   },
   "outputs": [
    {
     "data": {
      "text/html": [
       "<div>\n",
       "<style scoped>\n",
       "    .dataframe tbody tr th:only-of-type {\n",
       "        vertical-align: middle;\n",
       "    }\n",
       "\n",
       "    .dataframe tbody tr th {\n",
       "        vertical-align: top;\n",
       "    }\n",
       "\n",
       "    .dataframe thead th {\n",
       "        text-align: right;\n",
       "    }\n",
       "</style>\n",
       "<table border=\"1\" class=\"dataframe\">\n",
       "  <thead>\n",
       "    <tr style=\"text-align: right;\">\n",
       "      <th></th>\n",
       "      <th>rules</th>\n",
       "      <th>support</th>\n",
       "      <th>confidence</th>\n",
       "      <th>lift</th>\n",
       "      <th>count</th>\n",
       "    </tr>\n",
       "  </thead>\n",
       "  <tbody>\n",
       "    <tr>\n",
       "      <th>1</th>\n",
       "      <td>{554Prod} =&gt; {19Prod}</td>\n",
       "      <td>0.001992</td>\n",
       "      <td>1.00</td>\n",
       "      <td>11.952381</td>\n",
       "      <td>1</td>\n",
       "    </tr>\n",
       "    <tr>\n",
       "      <th>2</th>\n",
       "      <td>{216Prod} =&gt; {119Prod}</td>\n",
       "      <td>0.001992</td>\n",
       "      <td>1.00</td>\n",
       "      <td>10.244898</td>\n",
       "      <td>1</td>\n",
       "    </tr>\n",
       "    <tr>\n",
       "      <th>3</th>\n",
       "      <td>{312Prod} =&gt; {283Prod}</td>\n",
       "      <td>0.001992</td>\n",
       "      <td>1.00</td>\n",
       "      <td>125.500000</td>\n",
       "      <td>1</td>\n",
       "    </tr>\n",
       "    <tr>\n",
       "      <th>4</th>\n",
       "      <td>{283Prod} =&gt; {312Prod}</td>\n",
       "      <td>0.001992</td>\n",
       "      <td>0.25</td>\n",
       "      <td>125.500000</td>\n",
       "      <td>1</td>\n",
       "    </tr>\n",
       "    <tr>\n",
       "      <th>5</th>\n",
       "      <td>{312Prod} =&gt; {2388Prod}</td>\n",
       "      <td>0.001992</td>\n",
       "      <td>1.00</td>\n",
       "      <td>38.615385</td>\n",
       "      <td>1</td>\n",
       "    </tr>\n",
       "  </tbody>\n",
       "</table>\n",
       "</div>"
      ],
      "text/plain": [
       "                     rules   support  confidence        lift  count\n",
       "1    {554Prod} => {19Prod}  0.001992        1.00   11.952381      1\n",
       "2   {216Prod} => {119Prod}  0.001992        1.00   10.244898      1\n",
       "3   {312Prod} => {283Prod}  0.001992        1.00  125.500000      1\n",
       "4   {283Prod} => {312Prod}  0.001992        0.25  125.500000      1\n",
       "5  {312Prod} => {2388Prod}  0.001992        1.00   38.615385      1"
      ]
     },
     "execution_count": 31,
     "metadata": {},
     "output_type": "execute_result"
    }
   ],
   "source": [
    "# Read association rule file\n",
    "rules = pd.read_csv('C:/Users/Shirley/Desktop/ARP code/Association rule files/association rules_UK_Q4.csv')\n",
    "rules.head()"
   ]
  },
  {
   "cell_type": "markdown",
   "metadata": {},
   "source": [
    "# Seperate the products in association rules"
   ]
  },
  {
   "cell_type": "code",
   "execution_count": 32,
   "metadata": {
    "ExecuteTime": {
     "end_time": "2019-07-18T13:57:56.004288Z",
     "start_time": "2019-07-18T13:57:55.533271Z"
    }
   },
   "outputs": [
    {
     "data": {
      "text/html": [
       "<div>\n",
       "<style scoped>\n",
       "    .dataframe tbody tr th:only-of-type {\n",
       "        vertical-align: middle;\n",
       "    }\n",
       "\n",
       "    .dataframe tbody tr th {\n",
       "        vertical-align: top;\n",
       "    }\n",
       "\n",
       "    .dataframe thead th {\n",
       "        text-align: right;\n",
       "    }\n",
       "</style>\n",
       "<table border=\"1\" class=\"dataframe\">\n",
       "  <thead>\n",
       "    <tr style=\"text-align: right;\">\n",
       "      <th></th>\n",
       "      <th>lhs</th>\n",
       "      <th>rhs</th>\n",
       "    </tr>\n",
       "  </thead>\n",
       "  <tbody>\n",
       "    <tr>\n",
       "      <th>1</th>\n",
       "      <td>554Prod</td>\n",
       "      <td>19Prod</td>\n",
       "    </tr>\n",
       "    <tr>\n",
       "      <th>2</th>\n",
       "      <td>216Prod</td>\n",
       "      <td>119Prod</td>\n",
       "    </tr>\n",
       "    <tr>\n",
       "      <th>3</th>\n",
       "      <td>312Prod</td>\n",
       "      <td>283Prod</td>\n",
       "    </tr>\n",
       "    <tr>\n",
       "      <th>4</th>\n",
       "      <td>283Prod</td>\n",
       "      <td>312Prod</td>\n",
       "    </tr>\n",
       "    <tr>\n",
       "      <th>5</th>\n",
       "      <td>312Prod</td>\n",
       "      <td>2388Prod</td>\n",
       "    </tr>\n",
       "  </tbody>\n",
       "</table>\n",
       "</div>"
      ],
      "text/plain": [
       "       lhs       rhs\n",
       "1  554Prod    19Prod\n",
       "2  216Prod   119Prod\n",
       "3  312Prod   283Prod\n",
       "4  283Prod   312Prod\n",
       "5  312Prod  2388Prod"
      ]
     },
     "execution_count": 32,
     "metadata": {},
     "output_type": "execute_result"
    }
   ],
   "source": [
    "# New product data frame with split rule columns \n",
    "product = rules['rules'].str.split(\" \", expand = True)\n",
    "product['lhs'] = product[0]\n",
    "product['rhs'] = product[2]\n",
    "product = product.iloc[:, 3:5]\n",
    "product['lhs'] = product.lhs.str.extract('{(.*Prod)}')\n",
    "product['rhs'] = product.rhs.str.extract('{(.*Prod)}')\n",
    "product.head()"
   ]
  },
  {
   "cell_type": "code",
   "execution_count": 33,
   "metadata": {
    "ExecuteTime": {
     "end_time": "2019-07-18T13:57:56.024584Z",
     "start_time": "2019-07-18T13:57:56.006232Z"
    }
   },
   "outputs": [
    {
     "data": {
      "text/html": [
       "<div>\n",
       "<style scoped>\n",
       "    .dataframe tbody tr th:only-of-type {\n",
       "        vertical-align: middle;\n",
       "    }\n",
       "\n",
       "    .dataframe tbody tr th {\n",
       "        vertical-align: top;\n",
       "    }\n",
       "\n",
       "    .dataframe thead th {\n",
       "        text-align: right;\n",
       "    }\n",
       "</style>\n",
       "<table border=\"1\" class=\"dataframe\">\n",
       "  <thead>\n",
       "    <tr style=\"text-align: right;\">\n",
       "      <th></th>\n",
       "      <th>lhs</th>\n",
       "      <th>rhs</th>\n",
       "      <th>support</th>\n",
       "      <th>confidence</th>\n",
       "      <th>lift</th>\n",
       "      <th>count</th>\n",
       "    </tr>\n",
       "  </thead>\n",
       "  <tbody>\n",
       "    <tr>\n",
       "      <th>1</th>\n",
       "      <td>554Prod</td>\n",
       "      <td>19Prod</td>\n",
       "      <td>0.001992</td>\n",
       "      <td>1.00</td>\n",
       "      <td>11.952381</td>\n",
       "      <td>1</td>\n",
       "    </tr>\n",
       "    <tr>\n",
       "      <th>2</th>\n",
       "      <td>216Prod</td>\n",
       "      <td>119Prod</td>\n",
       "      <td>0.001992</td>\n",
       "      <td>1.00</td>\n",
       "      <td>10.244898</td>\n",
       "      <td>1</td>\n",
       "    </tr>\n",
       "    <tr>\n",
       "      <th>3</th>\n",
       "      <td>312Prod</td>\n",
       "      <td>283Prod</td>\n",
       "      <td>0.001992</td>\n",
       "      <td>1.00</td>\n",
       "      <td>125.500000</td>\n",
       "      <td>1</td>\n",
       "    </tr>\n",
       "    <tr>\n",
       "      <th>4</th>\n",
       "      <td>283Prod</td>\n",
       "      <td>312Prod</td>\n",
       "      <td>0.001992</td>\n",
       "      <td>0.25</td>\n",
       "      <td>125.500000</td>\n",
       "      <td>1</td>\n",
       "    </tr>\n",
       "    <tr>\n",
       "      <th>5</th>\n",
       "      <td>312Prod</td>\n",
       "      <td>2388Prod</td>\n",
       "      <td>0.001992</td>\n",
       "      <td>1.00</td>\n",
       "      <td>38.615385</td>\n",
       "      <td>1</td>\n",
       "    </tr>\n",
       "  </tbody>\n",
       "</table>\n",
       "</div>"
      ],
      "text/plain": [
       "       lhs       rhs   support  confidence        lift  count\n",
       "1  554Prod    19Prod  0.001992        1.00   11.952381      1\n",
       "2  216Prod   119Prod  0.001992        1.00   10.244898      1\n",
       "3  312Prod   283Prod  0.001992        1.00  125.500000      1\n",
       "4  283Prod   312Prod  0.001992        0.25  125.500000      1\n",
       "5  312Prod  2388Prod  0.001992        1.00   38.615385      1"
      ]
     },
     "execution_count": 33,
     "metadata": {},
     "output_type": "execute_result"
    }
   ],
   "source": [
    "# Combine the product data frame and the rule data frame\n",
    "rules = rules.iloc[:, 1:5]\n",
    "rules = pd.concat([product, rules], axis = 1)\n",
    "rules.head()"
   ]
  },
  {
   "cell_type": "markdown",
   "metadata": {},
   "source": [
    "# Inspect the results"
   ]
  },
  {
   "cell_type": "code",
   "execution_count": 34,
   "metadata": {
    "ExecuteTime": {
     "end_time": "2019-07-18T13:57:56.045913Z",
     "start_time": "2019-07-18T13:57:56.027561Z"
    }
   },
   "outputs": [
    {
     "data": {
      "text/html": [
       "<div>\n",
       "<style scoped>\n",
       "    .dataframe tbody tr th:only-of-type {\n",
       "        vertical-align: middle;\n",
       "    }\n",
       "\n",
       "    .dataframe tbody tr th {\n",
       "        vertical-align: top;\n",
       "    }\n",
       "\n",
       "    .dataframe thead th {\n",
       "        text-align: right;\n",
       "    }\n",
       "</style>\n",
       "<table border=\"1\" class=\"dataframe\">\n",
       "  <thead>\n",
       "    <tr style=\"text-align: right;\">\n",
       "      <th></th>\n",
       "      <th>Prod1</th>\n",
       "      <th>Prod2</th>\n",
       "      <th>count</th>\n",
       "    </tr>\n",
       "  </thead>\n",
       "  <tbody>\n",
       "    <tr>\n",
       "      <th>56690</th>\n",
       "      <td>303Prod</td>\n",
       "      <td>81Prod</td>\n",
       "      <td>28</td>\n",
       "    </tr>\n",
       "    <tr>\n",
       "      <th>55177</th>\n",
       "      <td>27Prod</td>\n",
       "      <td>88Prod</td>\n",
       "      <td>22</td>\n",
       "    </tr>\n",
       "    <tr>\n",
       "      <th>55155</th>\n",
       "      <td>27Prod</td>\n",
       "      <td>19Prod</td>\n",
       "      <td>17</td>\n",
       "    </tr>\n",
       "    <tr>\n",
       "      <th>36217</th>\n",
       "      <td>13Prod</td>\n",
       "      <td>40Prod</td>\n",
       "      <td>16</td>\n",
       "    </tr>\n",
       "    <tr>\n",
       "      <th>46665</th>\n",
       "      <td>119Prod</td>\n",
       "      <td>30Prod</td>\n",
       "      <td>16</td>\n",
       "    </tr>\n",
       "    <tr>\n",
       "      <th>47428</th>\n",
       "      <td>130Prod</td>\n",
       "      <td>66Prod</td>\n",
       "      <td>15</td>\n",
       "    </tr>\n",
       "    <tr>\n",
       "      <th>28586</th>\n",
       "      <td>1008Prod</td>\n",
       "      <td>2142Prod</td>\n",
       "      <td>15</td>\n",
       "    </tr>\n",
       "    <tr>\n",
       "      <th>17901</th>\n",
       "      <td>15Prod</td>\n",
       "      <td>119Prod</td>\n",
       "      <td>15</td>\n",
       "    </tr>\n",
       "    <tr>\n",
       "      <th>16674</th>\n",
       "      <td>18Prod</td>\n",
       "      <td>13Prod</td>\n",
       "      <td>15</td>\n",
       "    </tr>\n",
       "    <tr>\n",
       "      <th>3320</th>\n",
       "      <td>821Prod</td>\n",
       "      <td>15Prod</td>\n",
       "      <td>15</td>\n",
       "    </tr>\n",
       "  </tbody>\n",
       "</table>\n",
       "</div>"
      ],
      "text/plain": [
       "          Prod1     Prod2  count\n",
       "56690   303Prod    81Prod     28\n",
       "55177    27Prod    88Prod     22\n",
       "55155    27Prod    19Prod     17\n",
       "36217    13Prod    40Prod     16\n",
       "46665   119Prod    30Prod     16\n",
       "47428   130Prod    66Prod     15\n",
       "28586  1008Prod  2142Prod     15\n",
       "17901    15Prod   119Prod     15\n",
       "16674    18Prod    13Prod     15\n",
       "3320    821Prod    15Prod     15"
      ]
     },
     "execution_count": 34,
     "metadata": {},
     "output_type": "execute_result"
    }
   ],
   "source": [
    "# View network result\n",
    "network_sort = network.sort_values('count', ascending = False)\n",
    "network_sort.head(n = 10)"
   ]
  },
  {
   "cell_type": "code",
   "execution_count": 35,
   "metadata": {
    "ExecuteTime": {
     "end_time": "2019-07-18T13:57:56.083609Z",
     "start_time": "2019-07-18T13:57:56.048393Z"
    }
   },
   "outputs": [
    {
     "data": {
      "text/html": [
       "<div>\n",
       "<style scoped>\n",
       "    .dataframe tbody tr th:only-of-type {\n",
       "        vertical-align: middle;\n",
       "    }\n",
       "\n",
       "    .dataframe tbody tr th {\n",
       "        vertical-align: top;\n",
       "    }\n",
       "\n",
       "    .dataframe thead th {\n",
       "        text-align: right;\n",
       "    }\n",
       "</style>\n",
       "<table border=\"1\" class=\"dataframe\">\n",
       "  <thead>\n",
       "    <tr style=\"text-align: right;\">\n",
       "      <th></th>\n",
       "      <th>lhs</th>\n",
       "      <th>rhs</th>\n",
       "      <th>support</th>\n",
       "      <th>confidence</th>\n",
       "      <th>lift</th>\n",
       "      <th>count</th>\n",
       "    </tr>\n",
       "  </thead>\n",
       "  <tbody>\n",
       "    <tr>\n",
       "      <th>43430</th>\n",
       "      <td>2024Prod</td>\n",
       "      <td>2111Prod</td>\n",
       "      <td>0.011952</td>\n",
       "      <td>1.0</td>\n",
       "      <td>31.375000</td>\n",
       "      <td>6</td>\n",
       "    </tr>\n",
       "    <tr>\n",
       "      <th>43440</th>\n",
       "      <td>2024Prod</td>\n",
       "      <td>1573Prod</td>\n",
       "      <td>0.011952</td>\n",
       "      <td>1.0</td>\n",
       "      <td>27.888889</td>\n",
       "      <td>6</td>\n",
       "    </tr>\n",
       "    <tr>\n",
       "      <th>32365</th>\n",
       "      <td>495Prod</td>\n",
       "      <td>1014Prod</td>\n",
       "      <td>0.009960</td>\n",
       "      <td>1.0</td>\n",
       "      <td>45.636364</td>\n",
       "      <td>5</td>\n",
       "    </tr>\n",
       "    <tr>\n",
       "      <th>52203</th>\n",
       "      <td>1776Prod</td>\n",
       "      <td>1601Prod</td>\n",
       "      <td>0.009960</td>\n",
       "      <td>1.0</td>\n",
       "      <td>33.466667</td>\n",
       "      <td>5</td>\n",
       "    </tr>\n",
       "    <tr>\n",
       "      <th>53282</th>\n",
       "      <td>1351Prod</td>\n",
       "      <td>1028Prod</td>\n",
       "      <td>0.009960</td>\n",
       "      <td>1.0</td>\n",
       "      <td>71.714286</td>\n",
       "      <td>5</td>\n",
       "    </tr>\n",
       "    <tr>\n",
       "      <th>20377</th>\n",
       "      <td>2064Prod</td>\n",
       "      <td>2111Prod</td>\n",
       "      <td>0.007968</td>\n",
       "      <td>1.0</td>\n",
       "      <td>31.375000</td>\n",
       "      <td>4</td>\n",
       "    </tr>\n",
       "    <tr>\n",
       "      <th>30367</th>\n",
       "      <td>417Prod</td>\n",
       "      <td>272Prod</td>\n",
       "      <td>0.007968</td>\n",
       "      <td>1.0</td>\n",
       "      <td>100.400000</td>\n",
       "      <td>4</td>\n",
       "    </tr>\n",
       "    <tr>\n",
       "      <th>41999</th>\n",
       "      <td>1387Prod</td>\n",
       "      <td>748Prod</td>\n",
       "      <td>0.007968</td>\n",
       "      <td>1.0</td>\n",
       "      <td>20.080000</td>\n",
       "      <td>4</td>\n",
       "    </tr>\n",
       "    <tr>\n",
       "      <th>45893</th>\n",
       "      <td>879Prod</td>\n",
       "      <td>1499Prod</td>\n",
       "      <td>0.007968</td>\n",
       "      <td>1.0</td>\n",
       "      <td>33.466667</td>\n",
       "      <td>4</td>\n",
       "    </tr>\n",
       "    <tr>\n",
       "      <th>47633</th>\n",
       "      <td>1285Prod</td>\n",
       "      <td>1601Prod</td>\n",
       "      <td>0.007968</td>\n",
       "      <td>1.0</td>\n",
       "      <td>33.466667</td>\n",
       "      <td>4</td>\n",
       "    </tr>\n",
       "  </tbody>\n",
       "</table>\n",
       "</div>"
      ],
      "text/plain": [
       "            lhs       rhs   support  confidence        lift  count\n",
       "43430  2024Prod  2111Prod  0.011952         1.0   31.375000      6\n",
       "43440  2024Prod  1573Prod  0.011952         1.0   27.888889      6\n",
       "32365   495Prod  1014Prod  0.009960         1.0   45.636364      5\n",
       "52203  1776Prod  1601Prod  0.009960         1.0   33.466667      5\n",
       "53282  1351Prod  1028Prod  0.009960         1.0   71.714286      5\n",
       "20377  2064Prod  2111Prod  0.007968         1.0   31.375000      4\n",
       "30367   417Prod   272Prod  0.007968         1.0  100.400000      4\n",
       "41999  1387Prod   748Prod  0.007968         1.0   20.080000      4\n",
       "45893   879Prod  1499Prod  0.007968         1.0   33.466667      4\n",
       "47633  1285Prod  1601Prod  0.007968         1.0   33.466667      4"
      ]
     },
     "execution_count": 35,
     "metadata": {},
     "output_type": "execute_result"
    }
   ],
   "source": [
    "# View association rule result\n",
    "rules_sort = rules.sort_values(['confidence', 'support'], ascending = False)\n",
    "rules_sort.head(n = 10)"
   ]
  }
 ],
 "metadata": {
  "kernelspec": {
   "display_name": "Python 3",
   "language": "python",
   "name": "python3"
  },
  "language_info": {
   "codemirror_mode": {
    "name": "ipython",
    "version": 3
   },
   "file_extension": ".py",
   "mimetype": "text/x-python",
   "name": "python",
   "nbconvert_exporter": "python",
   "pygments_lexer": "ipython3",
   "version": "3.6.5"
  },
  "toc": {
   "base_numbering": 1,
   "nav_menu": {},
   "number_sections": true,
   "sideBar": true,
   "skip_h1_title": false,
   "title_cell": "Table of Contents",
   "title_sidebar": "Contents",
   "toc_cell": false,
   "toc_position": {},
   "toc_section_display": true,
   "toc_window_display": false
  },
  "varInspector": {
   "cols": {
    "lenName": 16,
    "lenType": 16,
    "lenVar": 40
   },
   "kernels_config": {
    "python": {
     "delete_cmd_postfix": "",
     "delete_cmd_prefix": "del ",
     "library": "var_list.py",
     "varRefreshCmd": "print(var_dic_list())"
    },
    "r": {
     "delete_cmd_postfix": ") ",
     "delete_cmd_prefix": "rm(",
     "library": "var_list.r",
     "varRefreshCmd": "cat(var_dic_list()) "
    }
   },
   "types_to_exclude": [
    "module",
    "function",
    "builtin_function_or_method",
    "instance",
    "_Feature"
   ],
   "window_display": false
  }
 },
 "nbformat": 4,
 "nbformat_minor": 2
}
