{
 "cells": [
  {
   "cell_type": "markdown",
   "metadata": {},
   "source": [
    "# Set up the sessions"
   ]
  },
  {
   "cell_type": "code",
   "execution_count": 38,
   "metadata": {
    "ExecuteTime": {
     "end_time": "2019-07-18T13:04:17.517830Z",
     "start_time": "2019-07-18T13:04:17.514397Z"
    }
   },
   "outputs": [],
   "source": [
    "import pandas as pd\n",
    "import networkx as nx\n",
    "from networkx.algorithms import bipartite as bp"
   ]
  },
  {
   "cell_type": "markdown",
   "metadata": {},
   "source": [
    "# Prepare Datasets"
   ]
  },
  {
   "cell_type": "markdown",
   "metadata": {},
   "source": [
    "## Import Data"
   ]
  },
  {
   "cell_type": "code",
   "execution_count": 39,
   "metadata": {
    "ExecuteTime": {
     "end_time": "2019-07-18T13:04:21.109374Z",
     "start_time": "2019-07-18T13:04:17.520806Z"
    }
   },
   "outputs": [],
   "source": [
    "# Read the datasets\n",
    "Q = pd.read_excel('C:/Users/Shirley/Desktop/ARP code/UK .xlsx', sheet_name = 'Q4')"
   ]
  },
  {
   "cell_type": "code",
   "execution_count": 40,
   "metadata": {
    "ExecuteTime": {
     "end_time": "2019-07-18T13:04:21.138643Z",
     "start_time": "2019-07-18T13:04:21.111361Z"
    }
   },
   "outputs": [
    {
     "data": {
      "text/html": [
       "<div>\n",
       "<style scoped>\n",
       "    .dataframe tbody tr th:only-of-type {\n",
       "        vertical-align: middle;\n",
       "    }\n",
       "\n",
       "    .dataframe tbody tr th {\n",
       "        vertical-align: top;\n",
       "    }\n",
       "\n",
       "    .dataframe thead th {\n",
       "        text-align: right;\n",
       "    }\n",
       "</style>\n",
       "<table border=\"1\" class=\"dataframe\">\n",
       "  <thead>\n",
       "    <tr style=\"text-align: right;\">\n",
       "      <th></th>\n",
       "      <th>Item/ Product Code</th>\n",
       "      <th>Customer Name</th>\n",
       "      <th>Season</th>\n",
       "      <th>Category</th>\n",
       "      <th>Product Type</th>\n",
       "      <th>Collection</th>\n",
       "      <th>Colour</th>\n",
       "      <th>Icon</th>\n",
       "      <th>Quantity sold</th>\n",
       "      <th>Invoice Total</th>\n",
       "      <th>Profit</th>\n",
       "      <th>Profit margin</th>\n",
       "      <th>Rank</th>\n",
       "      <th>Invoice number</th>\n",
       "      <th>Invoice date</th>\n",
       "    </tr>\n",
       "  </thead>\n",
       "  <tbody>\n",
       "    <tr>\n",
       "      <th>0</th>\n",
       "      <td>85Prod</td>\n",
       "      <td>Customer 4</td>\n",
       "      <td>NaN</td>\n",
       "      <td>Bags</td>\n",
       "      <td>Suitcase</td>\n",
       "      <td>Misc</td>\n",
       "      <td>Pink, Blue, Green</td>\n",
       "      <td>Other / Mixed</td>\n",
       "      <td>240</td>\n",
       "      <td>1718.4</td>\n",
       "      <td>678.67</td>\n",
       "      <td>0.394943</td>\n",
       "      <td>1</td>\n",
       "      <td>230351</td>\n",
       "      <td>2019-03-25</td>\n",
       "    </tr>\n",
       "    <tr>\n",
       "      <th>1</th>\n",
       "      <td>12Prod</td>\n",
       "      <td>Customer 4</td>\n",
       "      <td>2016AW</td>\n",
       "      <td>Home Accessories</td>\n",
       "      <td>Toy</td>\n",
       "      <td>Woodland Friends</td>\n",
       "      <td>Pink, Multi</td>\n",
       "      <td>WOODLAND ASSORT</td>\n",
       "      <td>240</td>\n",
       "      <td>1622.4</td>\n",
       "      <td>652.98</td>\n",
       "      <td>0.402478</td>\n",
       "      <td>1</td>\n",
       "      <td>230351</td>\n",
       "      <td>2019-03-25</td>\n",
       "    </tr>\n",
       "    <tr>\n",
       "      <th>2</th>\n",
       "      <td>1866Prod</td>\n",
       "      <td>Customer 4</td>\n",
       "      <td>NaN</td>\n",
       "      <td>Home Accessories</td>\n",
       "      <td>Photo Frame</td>\n",
       "      <td>Misc</td>\n",
       "      <td>Blue, White</td>\n",
       "      <td>Other / Mixed</td>\n",
       "      <td>240</td>\n",
       "      <td>1334.4</td>\n",
       "      <td>534.90</td>\n",
       "      <td>0.400854</td>\n",
       "      <td>1</td>\n",
       "      <td>230351</td>\n",
       "      <td>2019-03-25</td>\n",
       "    </tr>\n",
       "    <tr>\n",
       "      <th>3</th>\n",
       "      <td>14Prod</td>\n",
       "      <td>Customer 4</td>\n",
       "      <td>NaN</td>\n",
       "      <td>Bags</td>\n",
       "      <td>Suitcase</td>\n",
       "      <td>Vintage Map</td>\n",
       "      <td>Blue, Brown</td>\n",
       "      <td>Other / Mixed</td>\n",
       "      <td>120</td>\n",
       "      <td>1243.2</td>\n",
       "      <td>423.70</td>\n",
       "      <td>0.340814</td>\n",
       "      <td>1</td>\n",
       "      <td>230351</td>\n",
       "      <td>2019-03-25</td>\n",
       "    </tr>\n",
       "    <tr>\n",
       "      <th>4</th>\n",
       "      <td>85Prod</td>\n",
       "      <td>Customer 4</td>\n",
       "      <td>NaN</td>\n",
       "      <td>Bags</td>\n",
       "      <td>Suitcase</td>\n",
       "      <td>Misc</td>\n",
       "      <td>Pink, Blue, Green</td>\n",
       "      <td>Other / Mixed</td>\n",
       "      <td>120</td>\n",
       "      <td>1074.0</td>\n",
       "      <td>393.04</td>\n",
       "      <td>0.365959</td>\n",
       "      <td>1</td>\n",
       "      <td>227244</td>\n",
       "      <td>2019-03-01</td>\n",
       "    </tr>\n",
       "  </tbody>\n",
       "</table>\n",
       "</div>"
      ],
      "text/plain": [
       "  Item/ Product Code Customer Name  Season          Category Product Type  \\\n",
       "0             85Prod    Customer 4     NaN              Bags     Suitcase   \n",
       "1             12Prod    Customer 4  2016AW  Home Accessories          Toy   \n",
       "2           1866Prod    Customer 4     NaN  Home Accessories  Photo Frame   \n",
       "3             14Prod    Customer 4     NaN              Bags     Suitcase   \n",
       "4             85Prod    Customer 4     NaN              Bags     Suitcase   \n",
       "\n",
       "         Collection             Colour             Icon  Quantity sold  \\\n",
       "0              Misc  Pink, Blue, Green    Other / Mixed            240   \n",
       "1  Woodland Friends        Pink, Multi  WOODLAND ASSORT            240   \n",
       "2              Misc        Blue, White    Other / Mixed            240   \n",
       "3       Vintage Map        Blue, Brown    Other / Mixed            120   \n",
       "4              Misc  Pink, Blue, Green    Other / Mixed            120   \n",
       "\n",
       "   Invoice Total  Profit  Profit margin  Rank  Invoice number Invoice date  \n",
       "0         1718.4  678.67       0.394943     1          230351   2019-03-25  \n",
       "1         1622.4  652.98       0.402478     1          230351   2019-03-25  \n",
       "2         1334.4  534.90       0.400854     1          230351   2019-03-25  \n",
       "3         1243.2  423.70       0.340814     1          230351   2019-03-25  \n",
       "4         1074.0  393.04       0.365959     1          227244   2019-03-01  "
      ]
     },
     "execution_count": 40,
     "metadata": {},
     "output_type": "execute_result"
    }
   ],
   "source": [
    "# Combine the datasets\n",
    "data = pd.DataFrame(Q)\n",
    "data.head()\n",
    "#data.info()"
   ]
  },
  {
   "cell_type": "markdown",
   "metadata": {
    "ExecuteTime": {
     "end_time": "2019-06-06T22:58:31.333858Z",
     "start_time": "2019-06-06T22:58:31.329892Z"
    }
   },
   "source": [
    "## Remove Missing Values"
   ]
  },
  {
   "cell_type": "code",
   "execution_count": 41,
   "metadata": {
    "ExecuteTime": {
     "end_time": "2019-07-18T13:04:21.160466Z",
     "start_time": "2019-07-18T13:04:21.142609Z"
    }
   },
   "outputs": [
    {
     "data": {
      "text/plain": [
       "Item/ Product Code       0\n",
       "Customer Name            0\n",
       "Season                1419\n",
       "Category                 0\n",
       "Product Type             0\n",
       "Collection               0\n",
       "Colour                   0\n",
       "Icon                     0\n",
       "Quantity sold            0\n",
       "Invoice Total            0\n",
       "Profit                   0\n",
       "Profit margin          267\n",
       "Rank                     0\n",
       "Invoice number           0\n",
       "Invoice date             0\n",
       "dtype: int64"
      ]
     },
     "execution_count": 41,
     "metadata": {},
     "output_type": "execute_result"
    }
   ],
   "source": [
    "# Count the number of NaN values in each column\n",
    "data.isnull().sum()"
   ]
  },
  {
   "cell_type": "code",
   "execution_count": 42,
   "metadata": {
    "ExecuteTime": {
     "end_time": "2019-07-18T13:04:21.183281Z",
     "start_time": "2019-07-18T13:04:21.163441Z"
    }
   },
   "outputs": [
    {
     "data": {
      "text/plain": [
       "(6312, 15)"
      ]
     },
     "execution_count": 42,
     "metadata": {},
     "output_type": "execute_result"
    }
   ],
   "source": [
    "# Drop rows with missing values\n",
    "data = data.dropna()\n",
    "data.shape"
   ]
  },
  {
   "cell_type": "code",
   "execution_count": 43,
   "metadata": {
    "ExecuteTime": {
     "end_time": "2019-07-18T13:04:21.215025Z",
     "start_time": "2019-07-18T13:04:21.186257Z"
    }
   },
   "outputs": [
    {
     "data": {
      "text/html": [
       "<div>\n",
       "<style scoped>\n",
       "    .dataframe tbody tr th:only-of-type {\n",
       "        vertical-align: middle;\n",
       "    }\n",
       "\n",
       "    .dataframe tbody tr th {\n",
       "        vertical-align: top;\n",
       "    }\n",
       "\n",
       "    .dataframe thead th {\n",
       "        text-align: right;\n",
       "    }\n",
       "</style>\n",
       "<table border=\"1\" class=\"dataframe\">\n",
       "  <thead>\n",
       "    <tr style=\"text-align: right;\">\n",
       "      <th></th>\n",
       "      <th>Item/ Product Code</th>\n",
       "      <th>Customer Name</th>\n",
       "      <th>Season</th>\n",
       "      <th>Category</th>\n",
       "      <th>Product Type</th>\n",
       "      <th>Collection</th>\n",
       "      <th>Colour</th>\n",
       "      <th>Icon</th>\n",
       "      <th>Quantity sold</th>\n",
       "      <th>Invoice Total</th>\n",
       "      <th>Profit</th>\n",
       "      <th>Profit margin</th>\n",
       "      <th>Rank</th>\n",
       "      <th>Invoice number</th>\n",
       "      <th>Invoice date</th>\n",
       "    </tr>\n",
       "  </thead>\n",
       "  <tbody>\n",
       "    <tr>\n",
       "      <th>1</th>\n",
       "      <td>12Prod</td>\n",
       "      <td>Customer 4</td>\n",
       "      <td>2016AW</td>\n",
       "      <td>Home Accessories</td>\n",
       "      <td>Toy</td>\n",
       "      <td>Woodland Friends</td>\n",
       "      <td>Pink, Multi</td>\n",
       "      <td>WOODLAND ASSORT</td>\n",
       "      <td>240</td>\n",
       "      <td>1622.4</td>\n",
       "      <td>652.98</td>\n",
       "      <td>0.402478</td>\n",
       "      <td>1</td>\n",
       "      <td>230351</td>\n",
       "      <td>2019-03-25</td>\n",
       "    </tr>\n",
       "    <tr>\n",
       "      <th>6</th>\n",
       "      <td>88Prod</td>\n",
       "      <td>Customer 4</td>\n",
       "      <td>2015SS</td>\n",
       "      <td>Bags</td>\n",
       "      <td>Suitcase</td>\n",
       "      <td>Vintage Florals</td>\n",
       "      <td>Pink, Multi</td>\n",
       "      <td>Floral</td>\n",
       "      <td>72</td>\n",
       "      <td>644.4</td>\n",
       "      <td>234.93</td>\n",
       "      <td>0.364572</td>\n",
       "      <td>1</td>\n",
       "      <td>222049</td>\n",
       "      <td>2019-01-28</td>\n",
       "    </tr>\n",
       "    <tr>\n",
       "      <th>8</th>\n",
       "      <td>550Prod</td>\n",
       "      <td>Customer 4</td>\n",
       "      <td>2018AW</td>\n",
       "      <td>Home Accessories</td>\n",
       "      <td>MIRROR</td>\n",
       "      <td>MONOCHROME</td>\n",
       "      <td>Black</td>\n",
       "      <td>Other / Mixed</td>\n",
       "      <td>120</td>\n",
       "      <td>571.2</td>\n",
       "      <td>335.44</td>\n",
       "      <td>0.587255</td>\n",
       "      <td>1</td>\n",
       "      <td>230351</td>\n",
       "      <td>2019-03-25</td>\n",
       "    </tr>\n",
       "    <tr>\n",
       "      <th>9</th>\n",
       "      <td>88Prod</td>\n",
       "      <td>Customer 4</td>\n",
       "      <td>2015SS</td>\n",
       "      <td>Bags</td>\n",
       "      <td>Suitcase</td>\n",
       "      <td>Vintage Florals</td>\n",
       "      <td>Pink, Multi</td>\n",
       "      <td>Floral</td>\n",
       "      <td>60</td>\n",
       "      <td>537.0</td>\n",
       "      <td>195.49</td>\n",
       "      <td>0.364041</td>\n",
       "      <td>1</td>\n",
       "      <td>221479</td>\n",
       "      <td>2019-01-24</td>\n",
       "    </tr>\n",
       "    <tr>\n",
       "      <th>10</th>\n",
       "      <td>88Prod</td>\n",
       "      <td>Customer 4</td>\n",
       "      <td>2015SS</td>\n",
       "      <td>Bags</td>\n",
       "      <td>Suitcase</td>\n",
       "      <td>Vintage Florals</td>\n",
       "      <td>Pink, Multi</td>\n",
       "      <td>Floral</td>\n",
       "      <td>60</td>\n",
       "      <td>537.0</td>\n",
       "      <td>195.78</td>\n",
       "      <td>0.364581</td>\n",
       "      <td>1</td>\n",
       "      <td>227244</td>\n",
       "      <td>2019-03-01</td>\n",
       "    </tr>\n",
       "  </tbody>\n",
       "</table>\n",
       "</div>"
      ],
      "text/plain": [
       "   Item/ Product Code Customer Name  Season          Category Product Type  \\\n",
       "1              12Prod    Customer 4  2016AW  Home Accessories          Toy   \n",
       "6              88Prod    Customer 4  2015SS              Bags     Suitcase   \n",
       "8             550Prod    Customer 4  2018AW  Home Accessories       MIRROR   \n",
       "9              88Prod    Customer 4  2015SS              Bags     Suitcase   \n",
       "10             88Prod    Customer 4  2015SS              Bags     Suitcase   \n",
       "\n",
       "          Collection       Colour             Icon  Quantity sold  \\\n",
       "1   Woodland Friends  Pink, Multi  WOODLAND ASSORT            240   \n",
       "6    Vintage Florals  Pink, Multi           Floral             72   \n",
       "8         MONOCHROME        Black    Other / Mixed            120   \n",
       "9    Vintage Florals  Pink, Multi           Floral             60   \n",
       "10   Vintage Florals  Pink, Multi           Floral             60   \n",
       "\n",
       "    Invoice Total  Profit  Profit margin  Rank  Invoice number Invoice date  \n",
       "1          1622.4  652.98       0.402478     1          230351   2019-03-25  \n",
       "6           644.4  234.93       0.364572     1          222049   2019-01-28  \n",
       "8           571.2  335.44       0.587255     1          230351   2019-03-25  \n",
       "9           537.0  195.49       0.364041     1          221479   2019-01-24  \n",
       "10          537.0  195.78       0.364581     1          227244   2019-03-01  "
      ]
     },
     "execution_count": 43,
     "metadata": {},
     "output_type": "execute_result"
    }
   ],
   "source": [
    "data.head()"
   ]
  },
  {
   "cell_type": "markdown",
   "metadata": {},
   "source": [
    "# Product Pairs"
   ]
  },
  {
   "cell_type": "markdown",
   "metadata": {},
   "source": [
    "## Create a 2-mode Network"
   ]
  },
  {
   "cell_type": "code",
   "execution_count": 44,
   "metadata": {
    "ExecuteTime": {
     "end_time": "2019-07-18T13:04:21.226437Z",
     "start_time": "2019-07-18T13:04:21.219489Z"
    }
   },
   "outputs": [],
   "source": [
    "# Set nodes\n",
    "top_nodes = set(data['Invoice number'])\n",
    "bottom_nodes = set(data['Item/ Product Code'])"
   ]
  },
  {
   "cell_type": "code",
   "execution_count": 45,
   "metadata": {
    "ExecuteTime": {
     "end_time": "2019-07-18T13:04:21.345969Z",
     "start_time": "2019-07-18T13:04:21.229905Z"
    }
   },
   "outputs": [],
   "source": [
    "# Create a bipartite network\n",
    "b = nx.from_pandas_edgelist(data, source='Invoice number', target='Item/ Product Code')"
   ]
  },
  {
   "cell_type": "code",
   "execution_count": 46,
   "metadata": {
    "ExecuteTime": {
     "end_time": "2019-07-18T13:04:21.356881Z",
     "start_time": "2019-07-18T13:04:21.347952Z"
    }
   },
   "outputs": [
    {
     "data": {
      "text/plain": [
       "True"
      ]
     },
     "execution_count": 46,
     "metadata": {},
     "output_type": "execute_result"
    }
   ],
   "source": [
    "# `is bipartite` check\n",
    "is_bip = nx.is_bipartite(b)\n",
    "is_bip"
   ]
  },
  {
   "cell_type": "markdown",
   "metadata": {},
   "source": [
    "## Transfer 2-mode Network to 1-mode Network"
   ]
  },
  {
   "cell_type": "code",
   "execution_count": 47,
   "metadata": {
    "ExecuteTime": {
     "end_time": "2019-07-18T13:04:21.915226Z",
     "start_time": "2019-07-18T13:04:21.360353Z"
    }
   },
   "outputs": [],
   "source": [
    "# Get the weighted projections of the 2-mode network\n",
    "co_product = bp.weighted_projected_graph(b, bottom_nodes, ratio=False)"
   ]
  },
  {
   "cell_type": "markdown",
   "metadata": {},
   "source": [
    "## Write the weighted product network to csv file"
   ]
  },
  {
   "cell_type": "code",
   "execution_count": 48,
   "metadata": {
    "ExecuteTime": {
     "end_time": "2019-07-18T13:04:22.108664Z",
     "start_time": "2019-07-18T13:04:21.917207Z"
    }
   },
   "outputs": [],
   "source": [
    "nx.write_weighted_edgelist(co_product, 'co_product_weighted network_UK_Q4.csv')"
   ]
  }
 ],
 "metadata": {
  "kernelspec": {
   "display_name": "Python 3",
   "language": "python",
   "name": "python3"
  },
  "language_info": {
   "codemirror_mode": {
    "name": "ipython",
    "version": 3
   },
   "file_extension": ".py",
   "mimetype": "text/x-python",
   "name": "python",
   "nbconvert_exporter": "python",
   "pygments_lexer": "ipython3",
   "version": "3.6.5"
  },
  "toc": {
   "base_numbering": 1,
   "nav_menu": {},
   "number_sections": true,
   "sideBar": true,
   "skip_h1_title": false,
   "title_cell": "Table of Contents",
   "title_sidebar": "Contents",
   "toc_cell": false,
   "toc_position": {},
   "toc_section_display": true,
   "toc_window_display": false
  },
  "varInspector": {
   "cols": {
    "lenName": 16,
    "lenType": 16,
    "lenVar": 40
   },
   "kernels_config": {
    "python": {
     "delete_cmd_postfix": "",
     "delete_cmd_prefix": "del ",
     "library": "var_list.py",
     "varRefreshCmd": "print(var_dic_list())"
    },
    "r": {
     "delete_cmd_postfix": ") ",
     "delete_cmd_prefix": "rm(",
     "library": "var_list.r",
     "varRefreshCmd": "cat(var_dic_list()) "
    }
   },
   "oldHeight": 199.666666,
   "position": {
    "height": "221px",
    "left": "828px",
    "right": "20px",
    "top": "1px",
    "width": "433px"
   },
   "types_to_exclude": [
    "module",
    "function",
    "builtin_function_or_method",
    "instance",
    "_Feature"
   ],
   "varInspector_section_display": "block",
   "window_display": false
  }
 },
 "nbformat": 4,
 "nbformat_minor": 2
}
