{
 "cells": [
  {
   "cell_type": "markdown",
   "metadata": {},
   "source": [
    "# Question"
   ]
  },
  {
   "cell_type": "markdown",
   "metadata": {},
   "source": [
    "You are supposed to create a visualization for the sidebar of a Wikipedia page; particularly, the page concerns the entity 'Colorado' (USA state).\n",
    "\n",
    "Step 1:\n",
    "collect data on further cities located in the state of Colorado ('N' is up to you)\n",
    "\n",
    "Step 2 ― using Matplotlib, create a chart that:\n",
    "replicates the minimal map achieved in class using Turtle\n",
    "contains color for visual appeal and further clarity\n",
    "has a map legend/key for different features\n",
    "has a background image representing the boundaries of 'Colorado' (tip: you may want to use ax.imshow())"
   ]
  },
  {
   "cell_type": "markdown",
   "metadata": {},
   "source": [
    "# Setting up"
   ]
  },
  {
   "cell_type": "code",
   "execution_count": 9,
   "metadata": {
    "ExecuteTime": {
     "end_time": "2018-10-30T17:38:04.271336Z",
     "start_time": "2018-10-30T17:38:04.266542Z"
    }
   },
   "outputs": [],
   "source": [
    "import numpy as np\n",
    "import matplotlib.pyplot as plt\n",
    "import matplotlib.image as mpimg\n",
    "import matplotlib as mpl\n",
    "%matplotlib inline"
   ]
  },
  {
   "cell_type": "code",
   "execution_count": 16,
   "metadata": {
    "ExecuteTime": {
     "end_time": "2018-10-30T17:39:18.706367Z",
     "start_time": "2018-10-30T17:39:18.702653Z"
    }
   },
   "outputs": [],
   "source": [
    "# Set the Population and coordinate of Colorado\n",
    "NAME  = 0\n",
    "POINTS = 1 \n",
    "POP = 2\n",
    "\n",
    "state = [\"COLORADO\",\n",
    "         [\n",
    "             [-109,37], [-109,41],\n",
    "             [-102,37], [-102,41]             \n",
    "         ], 5187582\n",
    "]\n"
   ]
  },
  {
   "cell_type": "code",
   "execution_count": 17,
   "metadata": {
    "ExecuteTime": {
     "end_time": "2018-10-30T17:39:19.224445Z",
     "start_time": "2018-10-30T17:39:19.220711Z"
    }
   },
   "outputs": [],
   "source": [
    "#Fix map size\n",
    "map_width = 400\n",
    "map_height = 300\n",
    "\n",
    "minx = 180\n",
    "maxx = -180\n",
    "miny = 90\n",
    "maxy = -90\n",
    "\n",
    "for x, y in state[POINTS]:\n",
    "    if x < minx: minx = x\n",
    "    elif x > maxx: maxx = x\n",
    "    if y < miny: miny = y\n",
    "    elif y > maxy: maxy = y"
   ]
  },
  {
   "cell_type": "markdown",
   "metadata": {
    "ExecuteTime": {
     "end_time": "2018-10-27T17:59:03.489825Z",
     "start_time": "2018-10-27T17:58:25.279730Z"
    }
   },
   "source": [
    "# Setting the city and coordinates"
   ]
  },
  {
   "cell_type": "code",
   "execution_count": 18,
   "metadata": {
    "ExecuteTime": {
     "end_time": "2018-10-30T17:39:20.601914Z",
     "start_time": "2018-10-30T17:39:20.598062Z"
    }
   },
   "outputs": [],
   "source": [
    "City = [\"DENVER\",\"BOULDER\",\"PUEBLO\",\n",
    "        \"COLORADO SPRINGS\",\"MONTROSE\",\n",
    "         \"CORTEZ\",\"BAYFIELD\",\"GRAND JUNCTION\"]\n",
    "\n",
    "Pop = [704621,107125,111127,\n",
    "       464474,19305,8709,2687,62475]\n",
    "\n",
    "y = [-104.98,-105.27,-104.61,\n",
    "     -104.82,-107.88,-108.59,-107.60,-108.55]\n",
    "\n",
    "x = [39.74,40.02,38.25,38.83,38.48,37.35,37.23,39.06]"
   ]
  },
  {
   "cell_type": "markdown",
   "metadata": {
    "ExecuteTime": {
     "end_time": "2018-10-30T17:31:25.214803Z",
     "start_time": "2018-10-30T17:31:25.212448Z"
    }
   },
   "source": [
    "# Putting the data into a dataframe"
   ]
  },
  {
   "cell_type": "code",
   "execution_count": 19,
   "metadata": {
    "ExecuteTime": {
     "end_time": "2018-10-30T17:39:22.344328Z",
     "start_time": "2018-10-30T17:39:22.334431Z"
    },
    "scrolled": true
   },
   "outputs": [
    {
     "data": {
      "text/html": [
       "<div>\n",
       "<style scoped>\n",
       "    .dataframe tbody tr th:only-of-type {\n",
       "        vertical-align: middle;\n",
       "    }\n",
       "\n",
       "    .dataframe tbody tr th {\n",
       "        vertical-align: top;\n",
       "    }\n",
       "\n",
       "    .dataframe thead th {\n",
       "        text-align: right;\n",
       "    }\n",
       "</style>\n",
       "<table border=\"1\" class=\"dataframe\">\n",
       "  <thead>\n",
       "    <tr style=\"text-align: right;\">\n",
       "      <th></th>\n",
       "      <th>City</th>\n",
       "      <th>pop</th>\n",
       "      <th>lat</th>\n",
       "      <th>long</th>\n",
       "    </tr>\n",
       "  </thead>\n",
       "  <tbody>\n",
       "    <tr>\n",
       "      <th>0</th>\n",
       "      <td>DENVER</td>\n",
       "      <td>704621</td>\n",
       "      <td>39.74</td>\n",
       "      <td>-104.98</td>\n",
       "    </tr>\n",
       "    <tr>\n",
       "      <th>1</th>\n",
       "      <td>BOULDER</td>\n",
       "      <td>107125</td>\n",
       "      <td>40.02</td>\n",
       "      <td>-105.27</td>\n",
       "    </tr>\n",
       "    <tr>\n",
       "      <th>2</th>\n",
       "      <td>PUEBLO</td>\n",
       "      <td>111127</td>\n",
       "      <td>38.25</td>\n",
       "      <td>-104.61</td>\n",
       "    </tr>\n",
       "    <tr>\n",
       "      <th>3</th>\n",
       "      <td>COLORADO SPRINGS</td>\n",
       "      <td>464474</td>\n",
       "      <td>38.83</td>\n",
       "      <td>-104.82</td>\n",
       "    </tr>\n",
       "    <tr>\n",
       "      <th>4</th>\n",
       "      <td>MONTROSE</td>\n",
       "      <td>19305</td>\n",
       "      <td>38.48</td>\n",
       "      <td>-107.88</td>\n",
       "    </tr>\n",
       "    <tr>\n",
       "      <th>5</th>\n",
       "      <td>CORTEZ</td>\n",
       "      <td>8709</td>\n",
       "      <td>37.35</td>\n",
       "      <td>-108.59</td>\n",
       "    </tr>\n",
       "    <tr>\n",
       "      <th>6</th>\n",
       "      <td>BAYFIELD</td>\n",
       "      <td>2687</td>\n",
       "      <td>37.23</td>\n",
       "      <td>-107.60</td>\n",
       "    </tr>\n",
       "    <tr>\n",
       "      <th>7</th>\n",
       "      <td>GRAND JUNCTION</td>\n",
       "      <td>62475</td>\n",
       "      <td>39.06</td>\n",
       "      <td>-108.55</td>\n",
       "    </tr>\n",
       "  </tbody>\n",
       "</table>\n",
       "</div>"
      ],
      "text/plain": [
       "               City     pop    lat    long\n",
       "0            DENVER  704621  39.74 -104.98\n",
       "1           BOULDER  107125  40.02 -105.27\n",
       "2            PUEBLO  111127  38.25 -104.61\n",
       "3  COLORADO SPRINGS  464474  38.83 -104.82\n",
       "4          MONTROSE   19305  38.48 -107.88\n",
       "5            CORTEZ    8709  37.35 -108.59\n",
       "6          BAYFIELD    2687  37.23 -107.60\n",
       "7    GRAND JUNCTION   62475  39.06 -108.55"
      ]
     },
     "execution_count": 19,
     "metadata": {},
     "output_type": "execute_result"
    }
   ],
   "source": [
    "df = {\"City\" : City, \n",
    "      \"pop\": Pop, \n",
    "      \"lat\":x, \n",
    "      \"long\":y\n",
    "     }\n",
    "df = pd.DataFrame(df)\n",
    "df"
   ]
  },
  {
   "cell_type": "code",
   "execution_count": 20,
   "metadata": {
    "ExecuteTime": {
     "end_time": "2018-10-30T17:39:23.815964Z",
     "start_time": "2018-10-30T17:39:23.748581Z"
    }
   },
   "outputs": [],
   "source": [
    "#Image setting\n",
    "im = mpimg.imread('Map3.png')\n",
    "extent = (minx, maxx, miny, maxy)"
   ]
  },
  {
   "cell_type": "markdown",
   "metadata": {},
   "source": [
    "# Plotting the graph"
   ]
  },
  {
   "cell_type": "code",
   "execution_count": 21,
   "metadata": {
    "ExecuteTime": {
     "end_time": "2018-10-30T17:39:24.843833Z",
     "start_time": "2018-10-30T17:39:24.572597Z"
    }
   },
   "outputs": [
    {
     "data": {
      "image/png": "[encoded data removed]",
      "text/plain": [
       "<Figure size 720x504 with 2 Axes>"
      ]
     },
     "metadata": {},
     "output_type": "display_data"
    }
   ],
   "source": [
    "fig = plt.figure(figsize=(10,7))\n",
    "ax = fig.add_subplot(1,1,1)\n",
    "\n",
    "#image show\n",
    "ax.imshow(im, extent = extent)\n",
    "\n",
    "#setting the ledgend \n",
    "ax.set_title('State of Colorado', size = 20) \n",
    "ax.set_ylabel('Latitude')\n",
    "ax.set_xlabel('Longtitude')\n",
    "\n",
    "#add colour bar\n",
    "cmap = plt.get_cmap('RdYlBu',10)\n",
    "norm = mpl.colors.Normalize(vmin = 0, vmax = 710000)\n",
    "sm = plt.cm.ScalarMappable(cmap = cmap, norm = norm)\n",
    "sm.set_array([])\n",
    "\n",
    "cbar = plt.colorbar(sm, ticks=np.linspace(0, 710000, 10), \n",
    "             boundaries=np.arange(-5000, 710000, 10000))\n",
    "cbar.set_label('Population', rotation=270, labelpad=20)\n",
    "\n",
    "#Hide the Spines\n",
    "ax.spines['right'].set_visible(False)\n",
    "ax.spines['top'].set_visible(False)\n",
    "ax.spines['left'].set_visible(False)\n",
    "ax.spines['bottom'].set_visible(False)\n",
    "\n",
    "#Plot the City\n",
    "ax.scatter(df['long'],df['lat'],s= df['pop'] / 100,c = df['pop'], vmin = 0, \n",
    "           vmax = 710000, cmap = cmap, alpha = 0.7)\n",
    "\n",
    "#Showing the name for each city\n",
    "for i, txt in enumerate(City):\n",
    "    ax.annotate(txt, (y[i], x[i]))\n",
    "    \n",
    "\n",
    "plt.show()"
   ]
  },
  {
   "cell_type": "markdown",
   "metadata": {},
   "source": [
    "On this visulisation, the population is represented by both the size of the scatter points and the colour of each city."
   ]
  }
 ],
 "metadata": {
  "kernelspec": {
   "display_name": "Python 3",
   "language": "python",
   "name": "python3"
  },
  "language_info": {
   "codemirror_mode": {
    "name": "ipython",
    "version": 3
   },
   "file_extension": ".py",
   "mimetype": "text/x-python",
   "name": "python",
   "nbconvert_exporter": "python",
   "pygments_lexer": "ipython3",
   "version": "3.6.5"
  },
  "toc": {
   "base_numbering": 1,
   "nav_menu": {},
   "number_sections": true,
   "sideBar": true,
   "skip_h1_title": false,
   "title_cell": "Table of Contents",
   "title_sidebar": "Contents",
   "toc_cell": false,
   "toc_position": {},
   "toc_section_display": true,
   "toc_window_display": false
  },
  "varInspector": {
   "cols": {
    "lenName": 16,
    "lenType": 16,
    "lenVar": 40
   },
   "kernels_config": {
    "python": {
     "delete_cmd_postfix": "",
     "delete_cmd_prefix": "del ",
     "library": "var_list.py",
     "varRefreshCmd": "print(var_dic_list())"
    },
    "r": {
     "delete_cmd_postfix": ") ",
     "delete_cmd_prefix": "rm(",
     "library": "var_list.r",
     "varRefreshCmd": "cat(var_dic_list()) "
    }
   },
   "types_to_exclude": [
    "module",
    "function",
    "builtin_function_or_method",
    "instance",
    "_Feature"
   ],
   "window_display": false
  }
 },
 "nbformat": 4,
 "nbformat_minor": 2
}
